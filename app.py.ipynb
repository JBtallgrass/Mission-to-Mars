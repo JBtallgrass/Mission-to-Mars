{
 "cells": [
  {
   "cell_type": "code",
   "execution_count": 6,
   "id": "880520a2",
   "metadata": {},
   "outputs": [],
   "source": [
    "# Import Flask, PyMongo, and scraping.py \n",
    "from flask import Flask, render_template\n",
    "from flask_pymongo import PyMongo\n",
    "import scraping"
   ]
  },
  {
   "cell_type": "code",
   "execution_count": 7,
   "id": "67794db0",
   "metadata": {},
   "outputs": [],
   "source": [
    "app= Flask(__name__)"
   ]
  },
  {
   "cell_type": "code",
   "execution_count": 8,
   "id": "8a511b30",
   "metadata": {},
   "outputs": [],
   "source": [
    "# Use flask_pymongo to set up mongo connection\n",
    "app.config['MONGO_URI']= \"mongodb://localhost:27017/mars_app\"\n",
    "mongo=PyMongo(app)"
   ]
  },
  {
   "cell_type": "code",
   "execution_count": 9,
   "id": "99b868e6",
   "metadata": {},
   "outputs": [],
   "source": [
    "# Set Up Routes\n",
    "@app.route(\"/\")\n",
    "def index():\n",
    "    mars=mongo.db.mars.find_one()\n",
    "    return render_template('index.html', mars=mars)"
   ]
  },
  {
   "cell_type": "code",
   "execution_count": 10,
   "id": "cd1644c3",
   "metadata": {},
   "outputs": [],
   "source": [
    "@app.route(\"/scrape\")\n",
    "def scrape():\n",
    "    mars=mongo.db.mars\n",
    "    #holds newly scraped data, referencing scrape_all() function in scraping.py file\n",
    "    mars_data=scraping.scrape_all()\n",
    "    mars.update({},mars_data,upsert=True)\n",
    "    return \"Scraping Successful\""
   ]
  },
  {
   "cell_type": "code",
   "execution_count": 11,
   "id": "32d46d83",
   "metadata": {},
   "outputs": [
    {
     "name": "stdout",
     "output_type": "stream",
     "text": [
      " * Serving Flask app \"__main__\" (lazy loading)\n",
      " * Environment: production\n",
      "\u001b[31m   WARNING: This is a development server. Do not use it in a production deployment.\u001b[0m\n",
      "\u001b[2m   Use a production WSGI server instead.\u001b[0m\n",
      " * Debug mode: on\n"
     ]
    },
    {
     "name": "stderr",
     "output_type": "stream",
     "text": [
      " * Restarting with watchdog (windowsapi)\n"
     ]
    },
    {
     "ename": "SystemExit",
     "evalue": "1",
     "output_type": "error",
     "traceback": [
      "An exception has occurred, use %tb to see the full traceback.\n",
      "\u001b[1;31mSystemExit\u001b[0m\u001b[1;31m:\u001b[0m 1\n"
     ]
    }
   ],
   "source": [
    "if __name__ == \"__main__\":\n",
    "    app.run(debug=True)"
   ]
  }
 ],
 "metadata": {
  "kernelspec": {
   "display_name": "Python 3.7.13 ('PythonData')",
   "language": "python",
   "name": "python3"
  },
  "language_info": {
   "codemirror_mode": {
    "name": "ipython",
    "version": 3
   },
   "file_extension": ".py",
   "mimetype": "text/x-python",
   "name": "python",
   "nbconvert_exporter": "python",
   "pygments_lexer": "ipython3",
   "version": "3.7.13"
  },
  "vscode": {
   "interpreter": {
    "hash": "28d507131218cf584c6d2e369565742e231c4468a5006314d374b67dd01b03d7"
   }
  }
 },
 "nbformat": 4,
 "nbformat_minor": 5
}
